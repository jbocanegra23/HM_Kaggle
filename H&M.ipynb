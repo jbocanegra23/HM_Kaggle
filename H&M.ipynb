{
 "cells": [
  {
   "cell_type": "code",
   "execution_count": 8,
   "id": "dc4bff0e",
   "metadata": {},
   "outputs": [],
   "source": [
    "import pandas as pd\n",
    "import numpy as np\n",
    "import seaborn as sns\n",
    "import matplotlib.pyplot as plt"
   ]
  },
  {
   "cell_type": "code",
   "execution_count": 18,
   "id": "a30ef26f",
   "metadata": {},
   "outputs": [
    {
     "name": "stdout",
     "output_type": "stream",
     "text": [
      "Untitled.ipynb         \u001b[31mcustomers.csv\u001b[m\u001b[m\r\n",
      "\u001b[31marticles.csv\u001b[m\u001b[m           \u001b[31mtransactions_train.csv\u001b[m\u001b[m\r\n"
     ]
    }
   ],
   "source": [
    "!ls"
   ]
  },
  {
   "cell_type": "code",
   "execution_count": 19,
   "id": "b4ba6243",
   "metadata": {},
   "outputs": [],
   "source": [
    "articles     = pd.read_csv('articles.csv')\n",
    "customers    = pd.read_csv('customers.csv')\n",
    "transactions = pd.read_csv('transactions_train.csv')"
   ]
  },
  {
   "cell_type": "markdown",
   "id": "f93f4068",
   "metadata": {},
   "source": [
    "### Exploring the Transactions Data"
   ]
  },
  {
   "cell_type": "code",
   "execution_count": 21,
   "id": "023e5ec9",
   "metadata": {},
   "outputs": [
    {
     "name": "stdout",
     "output_type": "stream",
     "text": [
      "(31788324, 5)\n"
     ]
    },
    {
     "data": {
      "text/html": [
       "<div>\n",
       "<style scoped>\n",
       "    .dataframe tbody tr th:only-of-type {\n",
       "        vertical-align: middle;\n",
       "    }\n",
       "\n",
       "    .dataframe tbody tr th {\n",
       "        vertical-align: top;\n",
       "    }\n",
       "\n",
       "    .dataframe thead th {\n",
       "        text-align: right;\n",
       "    }\n",
       "</style>\n",
       "<table border=\"1\" class=\"dataframe\">\n",
       "  <thead>\n",
       "    <tr style=\"text-align: right;\">\n",
       "      <th></th>\n",
       "      <th>t_dat</th>\n",
       "      <th>customer_id</th>\n",
       "      <th>article_id</th>\n",
       "      <th>price</th>\n",
       "      <th>sales_channel_id</th>\n",
       "    </tr>\n",
       "  </thead>\n",
       "  <tbody>\n",
       "    <tr>\n",
       "      <th>0</th>\n",
       "      <td>2018-09-20</td>\n",
       "      <td>000058a12d5b43e67d225668fa1f8d618c13dc232df0ca...</td>\n",
       "      <td>663713001</td>\n",
       "      <td>0.050831</td>\n",
       "      <td>2</td>\n",
       "    </tr>\n",
       "    <tr>\n",
       "      <th>1</th>\n",
       "      <td>2018-09-20</td>\n",
       "      <td>000058a12d5b43e67d225668fa1f8d618c13dc232df0ca...</td>\n",
       "      <td>541518023</td>\n",
       "      <td>0.030492</td>\n",
       "      <td>2</td>\n",
       "    </tr>\n",
       "    <tr>\n",
       "      <th>2</th>\n",
       "      <td>2018-09-20</td>\n",
       "      <td>00007d2de826758b65a93dd24ce629ed66842531df6699...</td>\n",
       "      <td>505221004</td>\n",
       "      <td>0.015237</td>\n",
       "      <td>2</td>\n",
       "    </tr>\n",
       "    <tr>\n",
       "      <th>3</th>\n",
       "      <td>2018-09-20</td>\n",
       "      <td>00007d2de826758b65a93dd24ce629ed66842531df6699...</td>\n",
       "      <td>685687003</td>\n",
       "      <td>0.016932</td>\n",
       "      <td>2</td>\n",
       "    </tr>\n",
       "    <tr>\n",
       "      <th>4</th>\n",
       "      <td>2018-09-20</td>\n",
       "      <td>00007d2de826758b65a93dd24ce629ed66842531df6699...</td>\n",
       "      <td>685687004</td>\n",
       "      <td>0.016932</td>\n",
       "      <td>2</td>\n",
       "    </tr>\n",
       "  </tbody>\n",
       "</table>\n",
       "</div>"
      ],
      "text/plain": [
       "        t_dat                                        customer_id  article_id  \\\n",
       "0  2018-09-20  000058a12d5b43e67d225668fa1f8d618c13dc232df0ca...   663713001   \n",
       "1  2018-09-20  000058a12d5b43e67d225668fa1f8d618c13dc232df0ca...   541518023   \n",
       "2  2018-09-20  00007d2de826758b65a93dd24ce629ed66842531df6699...   505221004   \n",
       "3  2018-09-20  00007d2de826758b65a93dd24ce629ed66842531df6699...   685687003   \n",
       "4  2018-09-20  00007d2de826758b65a93dd24ce629ed66842531df6699...   685687004   \n",
       "\n",
       "      price  sales_channel_id  \n",
       "0  0.050831                 2  \n",
       "1  0.030492                 2  \n",
       "2  0.015237                 2  \n",
       "3  0.016932                 2  \n",
       "4  0.016932                 2  "
      ]
     },
     "execution_count": 21,
     "metadata": {},
     "output_type": "execute_result"
    }
   ],
   "source": [
    "print(transactions.shape)\n",
    "transactions.head()"
   ]
  },
  {
   "cell_type": "code",
   "execution_count": 22,
   "id": "2e5e4b75",
   "metadata": {},
   "outputs": [
    {
     "data": {
      "text/plain": [
       "2    22379862\n",
       "1     9408462\n",
       "Name: sales_channel_id, dtype: int64"
      ]
     },
     "execution_count": 22,
     "metadata": {},
     "output_type": "execute_result"
    }
   ],
   "source": [
    "transactions.sales_channel_id.value_counts()"
   ]
  },
  {
   "cell_type": "code",
   "execution_count": 23,
   "id": "13d12f6d",
   "metadata": {},
   "outputs": [
    {
     "name": "stdout",
     "output_type": "stream",
     "text": [
      "2018-09-20\n",
      "2020-09-22\n"
     ]
    }
   ],
   "source": [
    "print(transactions.t_dat.min())\n",
    "print(transactions.t_dat.max())"
   ]
  },
  {
   "cell_type": "code",
   "execution_count": 24,
   "id": "50d77b01",
   "metadata": {},
   "outputs": [
    {
     "data": {
      "text/plain": [
       "1362281"
      ]
     },
     "execution_count": 24,
     "metadata": {},
     "output_type": "execute_result"
    }
   ],
   "source": [
    "len(transactions.customer_id.unique())"
   ]
  },
  {
   "cell_type": "code",
   "execution_count": 25,
   "id": "dbfb42fb",
   "metadata": {},
   "outputs": [
    {
     "data": {
      "text/plain": [
       "104547"
      ]
     },
     "execution_count": 25,
     "metadata": {},
     "output_type": "execute_result"
    }
   ],
   "source": [
    "len(transactions.article_id.unique())"
   ]
  },
  {
   "cell_type": "code",
   "execution_count": 26,
   "id": "bcb4c4f2",
   "metadata": {},
   "outputs": [
    {
     "data": {
      "text/html": [
       "<div>\n",
       "<style scoped>\n",
       "    .dataframe tbody tr th:only-of-type {\n",
       "        vertical-align: middle;\n",
       "    }\n",
       "\n",
       "    .dataframe tbody tr th {\n",
       "        vertical-align: top;\n",
       "    }\n",
       "\n",
       "    .dataframe thead th {\n",
       "        text-align: right;\n",
       "    }\n",
       "</style>\n",
       "<table border=\"1\" class=\"dataframe\">\n",
       "  <thead>\n",
       "    <tr style=\"text-align: right;\">\n",
       "      <th></th>\n",
       "      <th>article_id</th>\n",
       "      <th>price</th>\n",
       "      <th>sales_channel_id</th>\n",
       "    </tr>\n",
       "  </thead>\n",
       "  <tbody>\n",
       "    <tr>\n",
       "      <th>count</th>\n",
       "      <td>3.178832e+07</td>\n",
       "      <td>3.178832e+07</td>\n",
       "      <td>3.178832e+07</td>\n",
       "    </tr>\n",
       "    <tr>\n",
       "      <th>mean</th>\n",
       "      <td>6.962272e+08</td>\n",
       "      <td>2.782927e-02</td>\n",
       "      <td>1.704028e+00</td>\n",
       "    </tr>\n",
       "    <tr>\n",
       "      <th>std</th>\n",
       "      <td>1.334480e+08</td>\n",
       "      <td>1.918113e-02</td>\n",
       "      <td>4.564786e-01</td>\n",
       "    </tr>\n",
       "    <tr>\n",
       "      <th>min</th>\n",
       "      <td>1.087750e+08</td>\n",
       "      <td>1.694915e-05</td>\n",
       "      <td>1.000000e+00</td>\n",
       "    </tr>\n",
       "    <tr>\n",
       "      <th>25%</th>\n",
       "      <td>6.328030e+08</td>\n",
       "      <td>1.581356e-02</td>\n",
       "      <td>1.000000e+00</td>\n",
       "    </tr>\n",
       "    <tr>\n",
       "      <th>50%</th>\n",
       "      <td>7.145820e+08</td>\n",
       "      <td>2.540678e-02</td>\n",
       "      <td>2.000000e+00</td>\n",
       "    </tr>\n",
       "    <tr>\n",
       "      <th>75%</th>\n",
       "      <td>7.865240e+08</td>\n",
       "      <td>3.388136e-02</td>\n",
       "      <td>2.000000e+00</td>\n",
       "    </tr>\n",
       "    <tr>\n",
       "      <th>max</th>\n",
       "      <td>9.562170e+08</td>\n",
       "      <td>5.915254e-01</td>\n",
       "      <td>2.000000e+00</td>\n",
       "    </tr>\n",
       "  </tbody>\n",
       "</table>\n",
       "</div>"
      ],
      "text/plain": [
       "         article_id         price  sales_channel_id\n",
       "count  3.178832e+07  3.178832e+07      3.178832e+07\n",
       "mean   6.962272e+08  2.782927e-02      1.704028e+00\n",
       "std    1.334480e+08  1.918113e-02      4.564786e-01\n",
       "min    1.087750e+08  1.694915e-05      1.000000e+00\n",
       "25%    6.328030e+08  1.581356e-02      1.000000e+00\n",
       "50%    7.145820e+08  2.540678e-02      2.000000e+00\n",
       "75%    7.865240e+08  3.388136e-02      2.000000e+00\n",
       "max    9.562170e+08  5.915254e-01      2.000000e+00"
      ]
     },
     "execution_count": 26,
     "metadata": {},
     "output_type": "execute_result"
    }
   ],
   "source": [
    "transactions.describe()"
   ]
  },
  {
   "cell_type": "code",
   "execution_count": 29,
   "id": "01d13b15",
   "metadata": {},
   "outputs": [
    {
     "data": {
      "text/plain": [
       "t_dat                object\n",
       "customer_id          object\n",
       "article_id            int64\n",
       "price               float64\n",
       "sales_channel_id      int64\n",
       "dtype: object"
      ]
     },
     "execution_count": 29,
     "metadata": {},
     "output_type": "execute_result"
    }
   ],
   "source": [
    "transactions.dtypes"
   ]
  },
  {
   "cell_type": "markdown",
   "id": "97516410",
   "metadata": {},
   "source": [
    "### Exploring the Articles Data"
   ]
  },
  {
   "cell_type": "code",
   "execution_count": 6,
   "id": "2e06c3cc",
   "metadata": {
    "scrolled": true
   },
   "outputs": [
    {
     "name": "stdout",
     "output_type": "stream",
     "text": [
      "(105542, 25)\n"
     ]
    },
    {
     "data": {
      "text/html": [
       "<div>\n",
       "<style scoped>\n",
       "    .dataframe tbody tr th:only-of-type {\n",
       "        vertical-align: middle;\n",
       "    }\n",
       "\n",
       "    .dataframe tbody tr th {\n",
       "        vertical-align: top;\n",
       "    }\n",
       "\n",
       "    .dataframe thead th {\n",
       "        text-align: right;\n",
       "    }\n",
       "</style>\n",
       "<table border=\"1\" class=\"dataframe\">\n",
       "  <thead>\n",
       "    <tr style=\"text-align: right;\">\n",
       "      <th></th>\n",
       "      <th>article_id</th>\n",
       "      <th>product_code</th>\n",
       "      <th>prod_name</th>\n",
       "      <th>product_type_no</th>\n",
       "      <th>product_type_name</th>\n",
       "      <th>product_group_name</th>\n",
       "      <th>graphical_appearance_no</th>\n",
       "      <th>graphical_appearance_name</th>\n",
       "      <th>colour_group_code</th>\n",
       "      <th>colour_group_name</th>\n",
       "      <th>...</th>\n",
       "      <th>department_name</th>\n",
       "      <th>index_code</th>\n",
       "      <th>index_name</th>\n",
       "      <th>index_group_no</th>\n",
       "      <th>index_group_name</th>\n",
       "      <th>section_no</th>\n",
       "      <th>section_name</th>\n",
       "      <th>garment_group_no</th>\n",
       "      <th>garment_group_name</th>\n",
       "      <th>detail_desc</th>\n",
       "    </tr>\n",
       "  </thead>\n",
       "  <tbody>\n",
       "    <tr>\n",
       "      <th>0</th>\n",
       "      <td>108775015</td>\n",
       "      <td>108775</td>\n",
       "      <td>Strap top</td>\n",
       "      <td>253</td>\n",
       "      <td>Vest top</td>\n",
       "      <td>Garment Upper body</td>\n",
       "      <td>1010016</td>\n",
       "      <td>Solid</td>\n",
       "      <td>9</td>\n",
       "      <td>Black</td>\n",
       "      <td>...</td>\n",
       "      <td>Jersey Basic</td>\n",
       "      <td>A</td>\n",
       "      <td>Ladieswear</td>\n",
       "      <td>1</td>\n",
       "      <td>Ladieswear</td>\n",
       "      <td>16</td>\n",
       "      <td>Womens Everyday Basics</td>\n",
       "      <td>1002</td>\n",
       "      <td>Jersey Basic</td>\n",
       "      <td>Jersey top with narrow shoulder straps.</td>\n",
       "    </tr>\n",
       "    <tr>\n",
       "      <th>1</th>\n",
       "      <td>108775044</td>\n",
       "      <td>108775</td>\n",
       "      <td>Strap top</td>\n",
       "      <td>253</td>\n",
       "      <td>Vest top</td>\n",
       "      <td>Garment Upper body</td>\n",
       "      <td>1010016</td>\n",
       "      <td>Solid</td>\n",
       "      <td>10</td>\n",
       "      <td>White</td>\n",
       "      <td>...</td>\n",
       "      <td>Jersey Basic</td>\n",
       "      <td>A</td>\n",
       "      <td>Ladieswear</td>\n",
       "      <td>1</td>\n",
       "      <td>Ladieswear</td>\n",
       "      <td>16</td>\n",
       "      <td>Womens Everyday Basics</td>\n",
       "      <td>1002</td>\n",
       "      <td>Jersey Basic</td>\n",
       "      <td>Jersey top with narrow shoulder straps.</td>\n",
       "    </tr>\n",
       "    <tr>\n",
       "      <th>2</th>\n",
       "      <td>108775051</td>\n",
       "      <td>108775</td>\n",
       "      <td>Strap top (1)</td>\n",
       "      <td>253</td>\n",
       "      <td>Vest top</td>\n",
       "      <td>Garment Upper body</td>\n",
       "      <td>1010017</td>\n",
       "      <td>Stripe</td>\n",
       "      <td>11</td>\n",
       "      <td>Off White</td>\n",
       "      <td>...</td>\n",
       "      <td>Jersey Basic</td>\n",
       "      <td>A</td>\n",
       "      <td>Ladieswear</td>\n",
       "      <td>1</td>\n",
       "      <td>Ladieswear</td>\n",
       "      <td>16</td>\n",
       "      <td>Womens Everyday Basics</td>\n",
       "      <td>1002</td>\n",
       "      <td>Jersey Basic</td>\n",
       "      <td>Jersey top with narrow shoulder straps.</td>\n",
       "    </tr>\n",
       "    <tr>\n",
       "      <th>3</th>\n",
       "      <td>110065001</td>\n",
       "      <td>110065</td>\n",
       "      <td>OP T-shirt (Idro)</td>\n",
       "      <td>306</td>\n",
       "      <td>Bra</td>\n",
       "      <td>Underwear</td>\n",
       "      <td>1010016</td>\n",
       "      <td>Solid</td>\n",
       "      <td>9</td>\n",
       "      <td>Black</td>\n",
       "      <td>...</td>\n",
       "      <td>Clean Lingerie</td>\n",
       "      <td>B</td>\n",
       "      <td>Lingeries/Tights</td>\n",
       "      <td>1</td>\n",
       "      <td>Ladieswear</td>\n",
       "      <td>61</td>\n",
       "      <td>Womens Lingerie</td>\n",
       "      <td>1017</td>\n",
       "      <td>Under-, Nightwear</td>\n",
       "      <td>Microfibre T-shirt bra with underwired, moulde...</td>\n",
       "    </tr>\n",
       "    <tr>\n",
       "      <th>4</th>\n",
       "      <td>110065002</td>\n",
       "      <td>110065</td>\n",
       "      <td>OP T-shirt (Idro)</td>\n",
       "      <td>306</td>\n",
       "      <td>Bra</td>\n",
       "      <td>Underwear</td>\n",
       "      <td>1010016</td>\n",
       "      <td>Solid</td>\n",
       "      <td>10</td>\n",
       "      <td>White</td>\n",
       "      <td>...</td>\n",
       "      <td>Clean Lingerie</td>\n",
       "      <td>B</td>\n",
       "      <td>Lingeries/Tights</td>\n",
       "      <td>1</td>\n",
       "      <td>Ladieswear</td>\n",
       "      <td>61</td>\n",
       "      <td>Womens Lingerie</td>\n",
       "      <td>1017</td>\n",
       "      <td>Under-, Nightwear</td>\n",
       "      <td>Microfibre T-shirt bra with underwired, moulde...</td>\n",
       "    </tr>\n",
       "  </tbody>\n",
       "</table>\n",
       "<p>5 rows × 25 columns</p>\n",
       "</div>"
      ],
      "text/plain": [
       "   article_id  product_code          prod_name  product_type_no  \\\n",
       "0   108775015        108775          Strap top              253   \n",
       "1   108775044        108775          Strap top              253   \n",
       "2   108775051        108775      Strap top (1)              253   \n",
       "3   110065001        110065  OP T-shirt (Idro)              306   \n",
       "4   110065002        110065  OP T-shirt (Idro)              306   \n",
       "\n",
       "  product_type_name  product_group_name  graphical_appearance_no  \\\n",
       "0          Vest top  Garment Upper body                  1010016   \n",
       "1          Vest top  Garment Upper body                  1010016   \n",
       "2          Vest top  Garment Upper body                  1010017   \n",
       "3               Bra           Underwear                  1010016   \n",
       "4               Bra           Underwear                  1010016   \n",
       "\n",
       "  graphical_appearance_name  colour_group_code colour_group_name  ...  \\\n",
       "0                     Solid                  9             Black  ...   \n",
       "1                     Solid                 10             White  ...   \n",
       "2                    Stripe                 11         Off White  ...   \n",
       "3                     Solid                  9             Black  ...   \n",
       "4                     Solid                 10             White  ...   \n",
       "\n",
       "   department_name index_code        index_name index_group_no  \\\n",
       "0     Jersey Basic          A        Ladieswear              1   \n",
       "1     Jersey Basic          A        Ladieswear              1   \n",
       "2     Jersey Basic          A        Ladieswear              1   \n",
       "3   Clean Lingerie          B  Lingeries/Tights              1   \n",
       "4   Clean Lingerie          B  Lingeries/Tights              1   \n",
       "\n",
       "   index_group_name section_no            section_name garment_group_no  \\\n",
       "0        Ladieswear         16  Womens Everyday Basics             1002   \n",
       "1        Ladieswear         16  Womens Everyday Basics             1002   \n",
       "2        Ladieswear         16  Womens Everyday Basics             1002   \n",
       "3        Ladieswear         61         Womens Lingerie             1017   \n",
       "4        Ladieswear         61         Womens Lingerie             1017   \n",
       "\n",
       "   garment_group_name                                        detail_desc  \n",
       "0        Jersey Basic            Jersey top with narrow shoulder straps.  \n",
       "1        Jersey Basic            Jersey top with narrow shoulder straps.  \n",
       "2        Jersey Basic            Jersey top with narrow shoulder straps.  \n",
       "3   Under-, Nightwear  Microfibre T-shirt bra with underwired, moulde...  \n",
       "4   Under-, Nightwear  Microfibre T-shirt bra with underwired, moulde...  \n",
       "\n",
       "[5 rows x 25 columns]"
      ]
     },
     "execution_count": 6,
     "metadata": {},
     "output_type": "execute_result"
    }
   ],
   "source": [
    "print(articles.shape)\n",
    "articles.head()"
   ]
  },
  {
   "cell_type": "code",
   "execution_count": 38,
   "id": "d502e578",
   "metadata": {},
   "outputs": [
    {
     "data": {
      "text/plain": [
       "Index(['article_id', 'product_code', 'prod_name', 'product_type_no',\n",
       "       'product_type_name', 'product_group_name', 'graphical_appearance_no',\n",
       "       'graphical_appearance_name', 'colour_group_code', 'colour_group_name',\n",
       "       'perceived_colour_value_id', 'perceived_colour_value_name',\n",
       "       'perceived_colour_master_id', 'perceived_colour_master_name',\n",
       "       'department_no', 'department_name', 'index_code', 'index_name',\n",
       "       'index_group_no', 'index_group_name', 'section_no', 'section_name',\n",
       "       'garment_group_no', 'garment_group_name', 'detail_desc'],\n",
       "      dtype='object')"
      ]
     },
     "execution_count": 38,
     "metadata": {},
     "output_type": "execute_result"
    }
   ],
   "source": [
    "articles.columns"
   ]
  },
  {
   "cell_type": "code",
   "execution_count": 31,
   "id": "55645aec",
   "metadata": {},
   "outputs": [
    {
     "data": {
      "text/plain": [
       "105542"
      ]
     },
     "execution_count": 31,
     "metadata": {},
     "output_type": "execute_result"
    }
   ],
   "source": [
    "len(articles.article_id.unique())"
   ]
  },
  {
   "cell_type": "code",
   "execution_count": 37,
   "id": "67ed7d7d",
   "metadata": {},
   "outputs": [
    {
     "name": "stdout",
     "output_type": "stream",
     "text": [
      "45875\n",
      "131\n",
      "19\n"
     ]
    }
   ],
   "source": [
    "print(len(articles.prod_name.unique()))\n",
    "print(len(articles.product_type_name.unique()))\n",
    "print(len(articles.product_group_name.unique()))"
   ]
  },
  {
   "cell_type": "code",
   "execution_count": 39,
   "id": "7429e7a1",
   "metadata": {},
   "outputs": [
    {
     "name": "stdout",
     "output_type": "stream",
     "text": [
      "Ladieswear       39737\n",
      "Baby/Children    34711\n",
      "Divided          15149\n",
      "Menswear         12553\n",
      "Sport             3392\n",
      "Name: index_group_name, dtype: int64\n"
     ]
    }
   ],
   "source": [
    "print(articles.index_group_name.value_counts())"
   ]
  },
  {
   "cell_type": "code",
   "execution_count": 41,
   "id": "13735e73",
   "metadata": {},
   "outputs": [
    {
     "name": "stdout",
     "output_type": "stream",
     "text": [
      "Jersey Fancy                     21445\n",
      "Accessories                      11519\n",
      "Jersey Basic                      8126\n",
      "Knitwear                          7490\n",
      "Under-, Nightwear                 7441\n",
      "Trousers                          6727\n",
      "Blouses                           5838\n",
      "Shoes                             5145\n",
      "Dresses Ladies                    4874\n",
      "Outdoor                           4501\n",
      "Unknown                           3873\n",
      "Trousers Denim                    3100\n",
      "Swimwear                          2787\n",
      "Socks and Tights                  2272\n",
      "Shirts                            2116\n",
      "Woven/Jersey/Knitted mix Baby     1965\n",
      "Shorts                            1559\n",
      "Dresses/Skirts girls              1541\n",
      "Skirts                            1254\n",
      "Special Offers                    1061\n",
      "Dressed                            908\n",
      "Name: garment_group_name, dtype: int64\n"
     ]
    }
   ],
   "source": [
    "print(articles.garment_group_name.value_counts())"
   ]
  },
  {
   "cell_type": "code",
   "execution_count": 42,
   "id": "ab3bbdec",
   "metadata": {},
   "outputs": [
    {
     "name": "stdout",
     "output_type": "stream",
     "text": [
      "Ladieswear                        26001\n",
      "Divided                           15149\n",
      "Menswear                          12553\n",
      "Children Sizes 92-140             12007\n",
      "Children Sizes 134-170             9214\n",
      "Baby Sizes 50-98                   8875\n",
      "Ladies Accessories                 6961\n",
      "Lingeries/Tights                   6775\n",
      "Children Accessories, Swimwear     4615\n",
      "Sport                              3392\n",
      "Name: index_name, dtype: int64\n"
     ]
    }
   ],
   "source": [
    "print(articles.index_name.value_counts())"
   ]
  },
  {
   "cell_type": "markdown",
   "id": "e4ab5f65",
   "metadata": {},
   "source": [
    "### Exploring the Customer Data"
   ]
  },
  {
   "cell_type": "code",
   "execution_count": 7,
   "id": "21aff375",
   "metadata": {},
   "outputs": [
    {
     "name": "stdout",
     "output_type": "stream",
     "text": [
      "(1371980, 7)\n"
     ]
    },
    {
     "data": {
      "text/html": [
       "<div>\n",
       "<style scoped>\n",
       "    .dataframe tbody tr th:only-of-type {\n",
       "        vertical-align: middle;\n",
       "    }\n",
       "\n",
       "    .dataframe tbody tr th {\n",
       "        vertical-align: top;\n",
       "    }\n",
       "\n",
       "    .dataframe thead th {\n",
       "        text-align: right;\n",
       "    }\n",
       "</style>\n",
       "<table border=\"1\" class=\"dataframe\">\n",
       "  <thead>\n",
       "    <tr style=\"text-align: right;\">\n",
       "      <th></th>\n",
       "      <th>customer_id</th>\n",
       "      <th>FN</th>\n",
       "      <th>Active</th>\n",
       "      <th>club_member_status</th>\n",
       "      <th>fashion_news_frequency</th>\n",
       "      <th>age</th>\n",
       "      <th>postal_code</th>\n",
       "    </tr>\n",
       "  </thead>\n",
       "  <tbody>\n",
       "    <tr>\n",
       "      <th>0</th>\n",
       "      <td>00000dbacae5abe5e23885899a1fa44253a17956c6d1c3...</td>\n",
       "      <td>NaN</td>\n",
       "      <td>NaN</td>\n",
       "      <td>ACTIVE</td>\n",
       "      <td>NONE</td>\n",
       "      <td>49.0</td>\n",
       "      <td>52043ee2162cf5aa7ee79974281641c6f11a68d276429a...</td>\n",
       "    </tr>\n",
       "    <tr>\n",
       "      <th>1</th>\n",
       "      <td>0000423b00ade91418cceaf3b26c6af3dd342b51fd051e...</td>\n",
       "      <td>NaN</td>\n",
       "      <td>NaN</td>\n",
       "      <td>ACTIVE</td>\n",
       "      <td>NONE</td>\n",
       "      <td>25.0</td>\n",
       "      <td>2973abc54daa8a5f8ccfe9362140c63247c5eee03f1d93...</td>\n",
       "    </tr>\n",
       "    <tr>\n",
       "      <th>2</th>\n",
       "      <td>000058a12d5b43e67d225668fa1f8d618c13dc232df0ca...</td>\n",
       "      <td>NaN</td>\n",
       "      <td>NaN</td>\n",
       "      <td>ACTIVE</td>\n",
       "      <td>NONE</td>\n",
       "      <td>24.0</td>\n",
       "      <td>64f17e6a330a85798e4998f62d0930d14db8db1c054af6...</td>\n",
       "    </tr>\n",
       "    <tr>\n",
       "      <th>3</th>\n",
       "      <td>00005ca1c9ed5f5146b52ac8639a40ca9d57aeff4d1bd2...</td>\n",
       "      <td>NaN</td>\n",
       "      <td>NaN</td>\n",
       "      <td>ACTIVE</td>\n",
       "      <td>NONE</td>\n",
       "      <td>54.0</td>\n",
       "      <td>5d36574f52495e81f019b680c843c443bd343d5ca5b1c2...</td>\n",
       "    </tr>\n",
       "    <tr>\n",
       "      <th>4</th>\n",
       "      <td>00006413d8573cd20ed7128e53b7b13819fe5cfc2d801f...</td>\n",
       "      <td>1.0</td>\n",
       "      <td>1.0</td>\n",
       "      <td>ACTIVE</td>\n",
       "      <td>Regularly</td>\n",
       "      <td>52.0</td>\n",
       "      <td>25fa5ddee9aac01b35208d01736e57942317d756b32ddd...</td>\n",
       "    </tr>\n",
       "  </tbody>\n",
       "</table>\n",
       "</div>"
      ],
      "text/plain": [
       "                                         customer_id   FN  Active  \\\n",
       "0  00000dbacae5abe5e23885899a1fa44253a17956c6d1c3...  NaN     NaN   \n",
       "1  0000423b00ade91418cceaf3b26c6af3dd342b51fd051e...  NaN     NaN   \n",
       "2  000058a12d5b43e67d225668fa1f8d618c13dc232df0ca...  NaN     NaN   \n",
       "3  00005ca1c9ed5f5146b52ac8639a40ca9d57aeff4d1bd2...  NaN     NaN   \n",
       "4  00006413d8573cd20ed7128e53b7b13819fe5cfc2d801f...  1.0     1.0   \n",
       "\n",
       "  club_member_status fashion_news_frequency   age  \\\n",
       "0             ACTIVE                   NONE  49.0   \n",
       "1             ACTIVE                   NONE  25.0   \n",
       "2             ACTIVE                   NONE  24.0   \n",
       "3             ACTIVE                   NONE  54.0   \n",
       "4             ACTIVE              Regularly  52.0   \n",
       "\n",
       "                                         postal_code  \n",
       "0  52043ee2162cf5aa7ee79974281641c6f11a68d276429a...  \n",
       "1  2973abc54daa8a5f8ccfe9362140c63247c5eee03f1d93...  \n",
       "2  64f17e6a330a85798e4998f62d0930d14db8db1c054af6...  \n",
       "3  5d36574f52495e81f019b680c843c443bd343d5ca5b1c2...  \n",
       "4  25fa5ddee9aac01b35208d01736e57942317d756b32ddd...  "
      ]
     },
     "execution_count": 7,
     "metadata": {},
     "output_type": "execute_result"
    }
   ],
   "source": [
    "print(customers.shape)\n",
    "customers.head()"
   ]
  },
  {
   "cell_type": "code",
   "execution_count": 30,
   "id": "b5f4329c",
   "metadata": {},
   "outputs": [
    {
     "data": {
      "text/plain": [
       "1371980"
      ]
     },
     "execution_count": 30,
     "metadata": {},
     "output_type": "execute_result"
    }
   ],
   "source": [
    "len(customers.customer_id.unique())"
   ]
  },
  {
   "cell_type": "code",
   "execution_count": 9,
   "id": "025cb55b",
   "metadata": {},
   "outputs": [
    {
     "data": {
      "text/plain": [
       "16.0"
      ]
     },
     "execution_count": 9,
     "metadata": {},
     "output_type": "execute_result"
    }
   ],
   "source": [
    "customers[\"age\"].min()"
   ]
  },
  {
   "cell_type": "code",
   "execution_count": 10,
   "id": "cb222994",
   "metadata": {},
   "outputs": [
    {
     "data": {
      "text/plain": [
       "99.0"
      ]
     },
     "execution_count": 10,
     "metadata": {},
     "output_type": "execute_result"
    }
   ],
   "source": [
    "customers[\"age\"].max()"
   ]
  },
  {
   "cell_type": "code",
   "execution_count": 67,
   "id": "add9151d",
   "metadata": {},
   "outputs": [
    {
     "data": {
      "image/png": "[encoded data removed]",
      "text/plain": [
       "<Figure size 432x288 with 1 Axes>"
      ]
     },
     "metadata": {
      "needs_background": "light"
     },
     "output_type": "display_data"
    }
   ],
   "source": [
    "sns.histplot(customers[\"age\"], bins = 55, kde = True)\n",
    "plt.title(\"H&M Customer Distribution\")\n",
    "plt.xticks(np.arange(15,100, step = 5))\n",
    "plt.show()"
   ]
  },
  {
   "cell_type": "code",
   "execution_count": 43,
   "id": "c6313e1b",
   "metadata": {},
   "outputs": [
    {
     "data": {
      "text/plain": [
       "352899"
      ]
     },
     "execution_count": 43,
     "metadata": {},
     "output_type": "execute_result"
    }
   ],
   "source": [
    "len(customers.postal_code.unique())"
   ]
  },
  {
   "cell_type": "code",
   "execution_count": 46,
   "id": "3e44b2fe",
   "metadata": {},
   "outputs": [
    {
     "data": {
      "text/plain": [
       "ACTIVE        1272491\n",
       "PRE-CREATE      92960\n",
       "LEFT CLUB         467\n",
       "Name: club_member_status, dtype: int64"
      ]
     },
     "execution_count": 46,
     "metadata": {},
     "output_type": "execute_result"
    }
   ],
   "source": [
    "customers.club_member_status.value_counts()"
   ]
  },
  {
   "cell_type": "code",
   "execution_count": 48,
   "id": "9a2c5259",
   "metadata": {},
   "outputs": [
    {
     "data": {
      "text/plain": [
       "NONE         877711\n",
       "Regularly    477416\n",
       "Monthly         842\n",
       "None              2\n",
       "Name: fashion_news_frequency, dtype: int64"
      ]
     },
     "execution_count": 48,
     "metadata": {},
     "output_type": "execute_result"
    }
   ],
   "source": [
    "customers.fashion_news_frequency.value_counts()"
   ]
  },
  {
   "cell_type": "markdown",
   "id": "52ffb460",
   "metadata": {},
   "source": [
    "### Combine the data frames together."
   ]
  },
  {
   "cell_type": "code",
   "execution_count": 50,
   "id": "492aa843",
   "metadata": {},
   "outputs": [
    {
     "data": {
      "text/html": [
       "<div>\n",
       "<style scoped>\n",
       "    .dataframe tbody tr th:only-of-type {\n",
       "        vertical-align: middle;\n",
       "    }\n",
       "\n",
       "    .dataframe tbody tr th {\n",
       "        vertical-align: top;\n",
       "    }\n",
       "\n",
       "    .dataframe thead th {\n",
       "        text-align: right;\n",
       "    }\n",
       "</style>\n",
       "<table border=\"1\" class=\"dataframe\">\n",
       "  <thead>\n",
       "    <tr style=\"text-align: right;\">\n",
       "      <th></th>\n",
       "      <th>t_dat</th>\n",
       "      <th>customer_id</th>\n",
       "      <th>article_id</th>\n",
       "      <th>price</th>\n",
       "      <th>sales_channel_id</th>\n",
       "      <th>product_code</th>\n",
       "      <th>prod_name</th>\n",
       "      <th>product_type_no</th>\n",
       "      <th>product_type_name</th>\n",
       "      <th>product_group_name</th>\n",
       "      <th>...</th>\n",
       "      <th>section_name</th>\n",
       "      <th>garment_group_no</th>\n",
       "      <th>garment_group_name</th>\n",
       "      <th>detail_desc</th>\n",
       "      <th>FN</th>\n",
       "      <th>Active</th>\n",
       "      <th>club_member_status</th>\n",
       "      <th>fashion_news_frequency</th>\n",
       "      <th>age</th>\n",
       "      <th>postal_code</th>\n",
       "    </tr>\n",
       "  </thead>\n",
       "  <tbody>\n",
       "    <tr>\n",
       "      <th>0</th>\n",
       "      <td>2018-09-20</td>\n",
       "      <td>000058a12d5b43e67d225668fa1f8d618c13dc232df0ca...</td>\n",
       "      <td>663713001</td>\n",
       "      <td>0.050831</td>\n",
       "      <td>2</td>\n",
       "      <td>663713</td>\n",
       "      <td>Atlanta Push Body Harlow</td>\n",
       "      <td>283</td>\n",
       "      <td>Underwear body</td>\n",
       "      <td>Underwear</td>\n",
       "      <td>...</td>\n",
       "      <td>Womens Lingerie</td>\n",
       "      <td>1017</td>\n",
       "      <td>Under-, Nightwear</td>\n",
       "      <td>Lace push-up body with underwired, moulded, pa...</td>\n",
       "      <td>NaN</td>\n",
       "      <td>NaN</td>\n",
       "      <td>ACTIVE</td>\n",
       "      <td>NONE</td>\n",
       "      <td>24.0</td>\n",
       "      <td>64f17e6a330a85798e4998f62d0930d14db8db1c054af6...</td>\n",
       "    </tr>\n",
       "    <tr>\n",
       "      <th>1</th>\n",
       "      <td>2018-09-20</td>\n",
       "      <td>000058a12d5b43e67d225668fa1f8d618c13dc232df0ca...</td>\n",
       "      <td>541518023</td>\n",
       "      <td>0.030492</td>\n",
       "      <td>2</td>\n",
       "      <td>541518</td>\n",
       "      <td>Rae Push (Melbourne) 2p</td>\n",
       "      <td>306</td>\n",
       "      <td>Bra</td>\n",
       "      <td>Underwear</td>\n",
       "      <td>...</td>\n",
       "      <td>Womens Lingerie</td>\n",
       "      <td>1017</td>\n",
       "      <td>Under-, Nightwear</td>\n",
       "      <td>Lace push-up bras with underwired, moulded, pa...</td>\n",
       "      <td>NaN</td>\n",
       "      <td>NaN</td>\n",
       "      <td>ACTIVE</td>\n",
       "      <td>NONE</td>\n",
       "      <td>24.0</td>\n",
       "      <td>64f17e6a330a85798e4998f62d0930d14db8db1c054af6...</td>\n",
       "    </tr>\n",
       "    <tr>\n",
       "      <th>2</th>\n",
       "      <td>2018-09-20</td>\n",
       "      <td>00007d2de826758b65a93dd24ce629ed66842531df6699...</td>\n",
       "      <td>505221004</td>\n",
       "      <td>0.015237</td>\n",
       "      <td>2</td>\n",
       "      <td>505221</td>\n",
       "      <td>Inca Jumper</td>\n",
       "      <td>252</td>\n",
       "      <td>Sweater</td>\n",
       "      <td>Garment Upper body</td>\n",
       "      <td>...</td>\n",
       "      <td>Divided Selected</td>\n",
       "      <td>1003</td>\n",
       "      <td>Knitwear</td>\n",
       "      <td>Jumper in rib-knit cotton with hard-worn detai...</td>\n",
       "      <td>1.0</td>\n",
       "      <td>1.0</td>\n",
       "      <td>ACTIVE</td>\n",
       "      <td>Regularly</td>\n",
       "      <td>32.0</td>\n",
       "      <td>8d6f45050876d059c830a0fe63f1a4c022de279bb68ce3...</td>\n",
       "    </tr>\n",
       "    <tr>\n",
       "      <th>3</th>\n",
       "      <td>2018-09-20</td>\n",
       "      <td>00007d2de826758b65a93dd24ce629ed66842531df6699...</td>\n",
       "      <td>685687003</td>\n",
       "      <td>0.016932</td>\n",
       "      <td>2</td>\n",
       "      <td>685687</td>\n",
       "      <td>W YODA KNIT OL OFFER</td>\n",
       "      <td>252</td>\n",
       "      <td>Sweater</td>\n",
       "      <td>Garment Upper body</td>\n",
       "      <td>...</td>\n",
       "      <td>Womens Everyday Collection</td>\n",
       "      <td>1023</td>\n",
       "      <td>Special Offers</td>\n",
       "      <td>V-neck knitted jumper with long sleeves and ri...</td>\n",
       "      <td>1.0</td>\n",
       "      <td>1.0</td>\n",
       "      <td>ACTIVE</td>\n",
       "      <td>Regularly</td>\n",
       "      <td>32.0</td>\n",
       "      <td>8d6f45050876d059c830a0fe63f1a4c022de279bb68ce3...</td>\n",
       "    </tr>\n",
       "    <tr>\n",
       "      <th>4</th>\n",
       "      <td>2018-09-20</td>\n",
       "      <td>00007d2de826758b65a93dd24ce629ed66842531df6699...</td>\n",
       "      <td>685687004</td>\n",
       "      <td>0.016932</td>\n",
       "      <td>2</td>\n",
       "      <td>685687</td>\n",
       "      <td>W YODA KNIT OL OFFER</td>\n",
       "      <td>252</td>\n",
       "      <td>Sweater</td>\n",
       "      <td>Garment Upper body</td>\n",
       "      <td>...</td>\n",
       "      <td>Womens Everyday Collection</td>\n",
       "      <td>1023</td>\n",
       "      <td>Special Offers</td>\n",
       "      <td>V-neck knitted jumper with long sleeves and ri...</td>\n",
       "      <td>1.0</td>\n",
       "      <td>1.0</td>\n",
       "      <td>ACTIVE</td>\n",
       "      <td>Regularly</td>\n",
       "      <td>32.0</td>\n",
       "      <td>8d6f45050876d059c830a0fe63f1a4c022de279bb68ce3...</td>\n",
       "    </tr>\n",
       "  </tbody>\n",
       "</table>\n",
       "<p>5 rows × 35 columns</p>\n",
       "</div>"
      ],
      "text/plain": [
       "        t_dat                                        customer_id  article_id  \\\n",
       "0  2018-09-20  000058a12d5b43e67d225668fa1f8d618c13dc232df0ca...   663713001   \n",
       "1  2018-09-20  000058a12d5b43e67d225668fa1f8d618c13dc232df0ca...   541518023   \n",
       "2  2018-09-20  00007d2de826758b65a93dd24ce629ed66842531df6699...   505221004   \n",
       "3  2018-09-20  00007d2de826758b65a93dd24ce629ed66842531df6699...   685687003   \n",
       "4  2018-09-20  00007d2de826758b65a93dd24ce629ed66842531df6699...   685687004   \n",
       "\n",
       "      price  sales_channel_id  product_code                 prod_name  \\\n",
       "0  0.050831                 2        663713  Atlanta Push Body Harlow   \n",
       "1  0.030492                 2        541518   Rae Push (Melbourne) 2p   \n",
       "2  0.015237                 2        505221               Inca Jumper   \n",
       "3  0.016932                 2        685687      W YODA KNIT OL OFFER   \n",
       "4  0.016932                 2        685687      W YODA KNIT OL OFFER   \n",
       "\n",
       "   product_type_no product_type_name  product_group_name  ...  \\\n",
       "0              283    Underwear body           Underwear  ...   \n",
       "1              306               Bra           Underwear  ...   \n",
       "2              252           Sweater  Garment Upper body  ...   \n",
       "3              252           Sweater  Garment Upper body  ...   \n",
       "4              252           Sweater  Garment Upper body  ...   \n",
       "\n",
       "                 section_name garment_group_no  garment_group_name  \\\n",
       "0             Womens Lingerie             1017   Under-, Nightwear   \n",
       "1             Womens Lingerie             1017   Under-, Nightwear   \n",
       "2            Divided Selected             1003            Knitwear   \n",
       "3  Womens Everyday Collection             1023      Special Offers   \n",
       "4  Womens Everyday Collection             1023      Special Offers   \n",
       "\n",
       "                                         detail_desc   FN Active  \\\n",
       "0  Lace push-up body with underwired, moulded, pa...  NaN    NaN   \n",
       "1  Lace push-up bras with underwired, moulded, pa...  NaN    NaN   \n",
       "2  Jumper in rib-knit cotton with hard-worn detai...  1.0    1.0   \n",
       "3  V-neck knitted jumper with long sleeves and ri...  1.0    1.0   \n",
       "4  V-neck knitted jumper with long sleeves and ri...  1.0    1.0   \n",
       "\n",
       "   club_member_status fashion_news_frequency   age  \\\n",
       "0              ACTIVE                   NONE  24.0   \n",
       "1              ACTIVE                   NONE  24.0   \n",
       "2              ACTIVE              Regularly  32.0   \n",
       "3              ACTIVE              Regularly  32.0   \n",
       "4              ACTIVE              Regularly  32.0   \n",
       "\n",
       "                                         postal_code  \n",
       "0  64f17e6a330a85798e4998f62d0930d14db8db1c054af6...  \n",
       "1  64f17e6a330a85798e4998f62d0930d14db8db1c054af6...  \n",
       "2  8d6f45050876d059c830a0fe63f1a4c022de279bb68ce3...  \n",
       "3  8d6f45050876d059c830a0fe63f1a4c022de279bb68ce3...  \n",
       "4  8d6f45050876d059c830a0fe63f1a4c022de279bb68ce3...  \n",
       "\n",
       "[5 rows x 35 columns]"
      ]
     },
     "execution_count": 50,
     "metadata": {},
     "output_type": "execute_result"
    }
   ],
   "source": [
    "all_data = transactions.merge(articles, on = 'article_id', how = 'left')\\\n",
    "                       .merge(customers, on = 'customer_id', how = 'left')\n",
    "all_data.head()"
   ]
  },
  {
   "cell_type": "code",
   "execution_count": 51,
   "id": "cb9ca323",
   "metadata": {},
   "outputs": [
    {
     "data": {
      "text/plain": [
       "Index(['t_dat', 'customer_id', 'article_id', 'price', 'sales_channel_id',\n",
       "       'product_code', 'prod_name', 'product_type_no', 'product_type_name',\n",
       "       'product_group_name', 'graphical_appearance_no',\n",
       "       'graphical_appearance_name', 'colour_group_code', 'colour_group_name',\n",
       "       'perceived_colour_value_id', 'perceived_colour_value_name',\n",
       "       'perceived_colour_master_id', 'perceived_colour_master_name',\n",
       "       'department_no', 'department_name', 'index_code', 'index_name',\n",
       "       'index_group_no', 'index_group_name', 'section_no', 'section_name',\n",
       "       'garment_group_no', 'garment_group_name', 'detail_desc', 'FN', 'Active',\n",
       "       'club_member_status', 'fashion_news_frequency', 'age', 'postal_code'],\n",
       "      dtype='object')"
      ]
     },
     "execution_count": 51,
     "metadata": {},
     "output_type": "execute_result"
    }
   ],
   "source": [
    "all_data.columns"
   ]
  },
  {
   "cell_type": "code",
   "execution_count": 53,
   "id": "d5c565e3",
   "metadata": {
    "scrolled": true
   },
   "outputs": [
    {
     "data": {
      "text/html": [
       "<div>\n",
       "<style scoped>\n",
       "    .dataframe tbody tr th:only-of-type {\n",
       "        vertical-align: middle;\n",
       "    }\n",
       "\n",
       "    .dataframe tbody tr th {\n",
       "        vertical-align: top;\n",
       "    }\n",
       "\n",
       "    .dataframe thead th {\n",
       "        text-align: right;\n",
       "    }\n",
       "</style>\n",
       "<table border=\"1\" class=\"dataframe\">\n",
       "  <thead>\n",
       "    <tr style=\"text-align: right;\">\n",
       "      <th></th>\n",
       "      <th>t_dat</th>\n",
       "      <th>customer_id</th>\n",
       "      <th>article_id</th>\n",
       "      <th>price</th>\n",
       "      <th>sales_channel_id</th>\n",
       "      <th>product_code</th>\n",
       "      <th>prod_name</th>\n",
       "      <th>product_type_no</th>\n",
       "      <th>product_type_name</th>\n",
       "      <th>product_group_name</th>\n",
       "      <th>...</th>\n",
       "      <th>garment_group_no</th>\n",
       "      <th>garment_group_name</th>\n",
       "      <th>detail_desc</th>\n",
       "      <th>FN</th>\n",
       "      <th>Active</th>\n",
       "      <th>club_member_status</th>\n",
       "      <th>fashion_news_frequency</th>\n",
       "      <th>age</th>\n",
       "      <th>postal_code</th>\n",
       "      <th>t_dat_short</th>\n",
       "    </tr>\n",
       "  </thead>\n",
       "  <tbody>\n",
       "    <tr>\n",
       "      <th>0</th>\n",
       "      <td>2018-09-20</td>\n",
       "      <td>000058a12d5b43e67d225668fa1f8d618c13dc232df0ca...</td>\n",
       "      <td>663713001</td>\n",
       "      <td>0.050831</td>\n",
       "      <td>2</td>\n",
       "      <td>663713</td>\n",
       "      <td>Atlanta Push Body Harlow</td>\n",
       "      <td>283</td>\n",
       "      <td>Underwear body</td>\n",
       "      <td>Underwear</td>\n",
       "      <td>...</td>\n",
       "      <td>1017</td>\n",
       "      <td>Under-, Nightwear</td>\n",
       "      <td>Lace push-up body with underwired, moulded, pa...</td>\n",
       "      <td>NaN</td>\n",
       "      <td>NaN</td>\n",
       "      <td>ACTIVE</td>\n",
       "      <td>NONE</td>\n",
       "      <td>24.0</td>\n",
       "      <td>64f17e6a330a85798e4998f62d0930d14db8db1c054af6...</td>\n",
       "      <td>2018-09</td>\n",
       "    </tr>\n",
       "    <tr>\n",
       "      <th>1</th>\n",
       "      <td>2018-09-20</td>\n",
       "      <td>000058a12d5b43e67d225668fa1f8d618c13dc232df0ca...</td>\n",
       "      <td>541518023</td>\n",
       "      <td>0.030492</td>\n",
       "      <td>2</td>\n",
       "      <td>541518</td>\n",
       "      <td>Rae Push (Melbourne) 2p</td>\n",
       "      <td>306</td>\n",
       "      <td>Bra</td>\n",
       "      <td>Underwear</td>\n",
       "      <td>...</td>\n",
       "      <td>1017</td>\n",
       "      <td>Under-, Nightwear</td>\n",
       "      <td>Lace push-up bras with underwired, moulded, pa...</td>\n",
       "      <td>NaN</td>\n",
       "      <td>NaN</td>\n",
       "      <td>ACTIVE</td>\n",
       "      <td>NONE</td>\n",
       "      <td>24.0</td>\n",
       "      <td>64f17e6a330a85798e4998f62d0930d14db8db1c054af6...</td>\n",
       "      <td>2018-09</td>\n",
       "    </tr>\n",
       "    <tr>\n",
       "      <th>2</th>\n",
       "      <td>2018-09-20</td>\n",
       "      <td>00007d2de826758b65a93dd24ce629ed66842531df6699...</td>\n",
       "      <td>505221004</td>\n",
       "      <td>0.015237</td>\n",
       "      <td>2</td>\n",
       "      <td>505221</td>\n",
       "      <td>Inca Jumper</td>\n",
       "      <td>252</td>\n",
       "      <td>Sweater</td>\n",
       "      <td>Garment Upper body</td>\n",
       "      <td>...</td>\n",
       "      <td>1003</td>\n",
       "      <td>Knitwear</td>\n",
       "      <td>Jumper in rib-knit cotton with hard-worn detai...</td>\n",
       "      <td>1.0</td>\n",
       "      <td>1.0</td>\n",
       "      <td>ACTIVE</td>\n",
       "      <td>Regularly</td>\n",
       "      <td>32.0</td>\n",
       "      <td>8d6f45050876d059c830a0fe63f1a4c022de279bb68ce3...</td>\n",
       "      <td>2018-09</td>\n",
       "    </tr>\n",
       "    <tr>\n",
       "      <th>3</th>\n",
       "      <td>2018-09-20</td>\n",
       "      <td>00007d2de826758b65a93dd24ce629ed66842531df6699...</td>\n",
       "      <td>685687003</td>\n",
       "      <td>0.016932</td>\n",
       "      <td>2</td>\n",
       "      <td>685687</td>\n",
       "      <td>W YODA KNIT OL OFFER</td>\n",
       "      <td>252</td>\n",
       "      <td>Sweater</td>\n",
       "      <td>Garment Upper body</td>\n",
       "      <td>...</td>\n",
       "      <td>1023</td>\n",
       "      <td>Special Offers</td>\n",
       "      <td>V-neck knitted jumper with long sleeves and ri...</td>\n",
       "      <td>1.0</td>\n",
       "      <td>1.0</td>\n",
       "      <td>ACTIVE</td>\n",
       "      <td>Regularly</td>\n",
       "      <td>32.0</td>\n",
       "      <td>8d6f45050876d059c830a0fe63f1a4c022de279bb68ce3...</td>\n",
       "      <td>2018-09</td>\n",
       "    </tr>\n",
       "    <tr>\n",
       "      <th>4</th>\n",
       "      <td>2018-09-20</td>\n",
       "      <td>00007d2de826758b65a93dd24ce629ed66842531df6699...</td>\n",
       "      <td>685687004</td>\n",
       "      <td>0.016932</td>\n",
       "      <td>2</td>\n",
       "      <td>685687</td>\n",
       "      <td>W YODA KNIT OL OFFER</td>\n",
       "      <td>252</td>\n",
       "      <td>Sweater</td>\n",
       "      <td>Garment Upper body</td>\n",
       "      <td>...</td>\n",
       "      <td>1023</td>\n",
       "      <td>Special Offers</td>\n",
       "      <td>V-neck knitted jumper with long sleeves and ri...</td>\n",
       "      <td>1.0</td>\n",
       "      <td>1.0</td>\n",
       "      <td>ACTIVE</td>\n",
       "      <td>Regularly</td>\n",
       "      <td>32.0</td>\n",
       "      <td>8d6f45050876d059c830a0fe63f1a4c022de279bb68ce3...</td>\n",
       "      <td>2018-09</td>\n",
       "    </tr>\n",
       "  </tbody>\n",
       "</table>\n",
       "<p>5 rows × 36 columns</p>\n",
       "</div>"
      ],
      "text/plain": [
       "        t_dat                                        customer_id  article_id  \\\n",
       "0  2018-09-20  000058a12d5b43e67d225668fa1f8d618c13dc232df0ca...   663713001   \n",
       "1  2018-09-20  000058a12d5b43e67d225668fa1f8d618c13dc232df0ca...   541518023   \n",
       "2  2018-09-20  00007d2de826758b65a93dd24ce629ed66842531df6699...   505221004   \n",
       "3  2018-09-20  00007d2de826758b65a93dd24ce629ed66842531df6699...   685687003   \n",
       "4  2018-09-20  00007d2de826758b65a93dd24ce629ed66842531df6699...   685687004   \n",
       "\n",
       "      price  sales_channel_id  product_code                 prod_name  \\\n",
       "0  0.050831                 2        663713  Atlanta Push Body Harlow   \n",
       "1  0.030492                 2        541518   Rae Push (Melbourne) 2p   \n",
       "2  0.015237                 2        505221               Inca Jumper   \n",
       "3  0.016932                 2        685687      W YODA KNIT OL OFFER   \n",
       "4  0.016932                 2        685687      W YODA KNIT OL OFFER   \n",
       "\n",
       "   product_type_no product_type_name  product_group_name  ...  \\\n",
       "0              283    Underwear body           Underwear  ...   \n",
       "1              306               Bra           Underwear  ...   \n",
       "2              252           Sweater  Garment Upper body  ...   \n",
       "3              252           Sweater  Garment Upper body  ...   \n",
       "4              252           Sweater  Garment Upper body  ...   \n",
       "\n",
       "   garment_group_no garment_group_name  \\\n",
       "0              1017  Under-, Nightwear   \n",
       "1              1017  Under-, Nightwear   \n",
       "2              1003           Knitwear   \n",
       "3              1023     Special Offers   \n",
       "4              1023     Special Offers   \n",
       "\n",
       "                                         detail_desc   FN  Active  \\\n",
       "0  Lace push-up body with underwired, moulded, pa...  NaN     NaN   \n",
       "1  Lace push-up bras with underwired, moulded, pa...  NaN     NaN   \n",
       "2  Jumper in rib-knit cotton with hard-worn detai...  1.0     1.0   \n",
       "3  V-neck knitted jumper with long sleeves and ri...  1.0     1.0   \n",
       "4  V-neck knitted jumper with long sleeves and ri...  1.0     1.0   \n",
       "\n",
       "  club_member_status  fashion_news_frequency   age  \\\n",
       "0             ACTIVE                    NONE  24.0   \n",
       "1             ACTIVE                    NONE  24.0   \n",
       "2             ACTIVE               Regularly  32.0   \n",
       "3             ACTIVE               Regularly  32.0   \n",
       "4             ACTIVE               Regularly  32.0   \n",
       "\n",
       "                                         postal_code t_dat_short  \n",
       "0  64f17e6a330a85798e4998f62d0930d14db8db1c054af6...     2018-09  \n",
       "1  64f17e6a330a85798e4998f62d0930d14db8db1c054af6...     2018-09  \n",
       "2  8d6f45050876d059c830a0fe63f1a4c022de279bb68ce3...     2018-09  \n",
       "3  8d6f45050876d059c830a0fe63f1a4c022de279bb68ce3...     2018-09  \n",
       "4  8d6f45050876d059c830a0fe63f1a4c022de279bb68ce3...     2018-09  \n",
       "\n",
       "[5 rows x 36 columns]"
      ]
     },
     "execution_count": 53,
     "metadata": {},
     "output_type": "execute_result"
    }
   ],
   "source": [
    "def getYearMonth(date: str):\n",
    "    \"\"\"\n",
    "    Input:  2019-02-02\n",
    "    Output: 2019-02\n",
    "    \"\"\"\n",
    "    year_month = date[0:7]\n",
    "    return year_month\n",
    "\n",
    "\n",
    "all_data['t_dat_short'] = all_data['t_dat'].apply(lambda x: getYearMonth(x))\n",
    "all_data.head()"
   ]
  },
  {
   "cell_type": "code",
   "execution_count": 54,
   "id": "0847160d",
   "metadata": {
    "scrolled": true
   },
   "outputs": [
    {
     "data": {
      "text/plain": [
       "Index(['t_dat', 'customer_id', 'article_id', 'price', 'sales_channel_id',\n",
       "       'product_code', 'prod_name', 'product_type_no', 'product_type_name',\n",
       "       'product_group_name', 'graphical_appearance_no',\n",
       "       'graphical_appearance_name', 'colour_group_code', 'colour_group_name',\n",
       "       'perceived_colour_value_id', 'perceived_colour_value_name',\n",
       "       'perceived_colour_master_id', 'perceived_colour_master_name',\n",
       "       'department_no', 'department_name', 'index_code', 'index_name',\n",
       "       'index_group_no', 'index_group_name', 'section_no', 'section_name',\n",
       "       'garment_group_no', 'garment_group_name', 'detail_desc', 'FN', 'Active',\n",
       "       'club_member_status', 'fashion_news_frequency', 'age', 'postal_code',\n",
       "       't_dat_short'],\n",
       "      dtype='object')"
      ]
     },
     "execution_count": 54,
     "metadata": {},
     "output_type": "execute_result"
    }
   ],
   "source": [
    "all_data.columns"
   ]
  },
  {
   "cell_type": "code",
   "execution_count": 57,
   "id": "c83b3019",
   "metadata": {},
   "outputs": [
    {
     "data": {
      "text/plain": [
       "t_dat                            object\n",
       "customer_id                      object\n",
       "article_id                        int64\n",
       "price                           float64\n",
       "sales_channel_id                  int64\n",
       "product_code                      int64\n",
       "prod_name                        object\n",
       "product_type_no                   int64\n",
       "product_type_name                object\n",
       "product_group_name               object\n",
       "graphical_appearance_no           int64\n",
       "graphical_appearance_name        object\n",
       "colour_group_code                 int64\n",
       "colour_group_name                object\n",
       "perceived_colour_value_id         int64\n",
       "perceived_colour_value_name      object\n",
       "perceived_colour_master_id        int64\n",
       "perceived_colour_master_name     object\n",
       "department_no                     int64\n",
       "department_name                  object\n",
       "index_code                       object\n",
       "index_name                       object\n",
       "index_group_no                    int64\n",
       "index_group_name                 object\n",
       "section_no                        int64\n",
       "section_name                     object\n",
       "garment_group_no                  int64\n",
       "garment_group_name               object\n",
       "detail_desc                      object\n",
       "FN                              float64\n",
       "Active                          float64\n",
       "club_member_status               object\n",
       "fashion_news_frequency           object\n",
       "age                             float64\n",
       "postal_code                      object\n",
       "t_dat_short                      object\n",
       "dtype: object"
      ]
     },
     "execution_count": 57,
     "metadata": {},
     "output_type": "execute_result"
    }
   ],
   "source": [
    "all_data.dtypes"
   ]
  },
  {
   "cell_type": "markdown",
   "id": "0d0d5780",
   "metadata": {},
   "source": [
    "### Creating Customer Segments Based Off of Age of Customer\n",
    "\n",
    "1. Bin customers based on age range\n",
    "2. Identify gender affinity based on purchasing history\n",
    "3. Count # of customers, total revenue, revenue per purchase date, # of repeats\n",
    "4. Over / Under Indexing of customers age and gender affinity by products, product types, and sales channel"
   ]
  },
  {
   "cell_type": "code",
   "execution_count": 68,
   "id": "d59383b8",
   "metadata": {},
   "outputs": [
    {
     "data": {
      "text/html": [
       "<div>\n",
       "<style scoped>\n",
       "    .dataframe tbody tr th:only-of-type {\n",
       "        vertical-align: middle;\n",
       "    }\n",
       "\n",
       "    .dataframe tbody tr th {\n",
       "        vertical-align: top;\n",
       "    }\n",
       "\n",
       "    .dataframe thead th {\n",
       "        text-align: right;\n",
       "    }\n",
       "</style>\n",
       "<table border=\"1\" class=\"dataframe\">\n",
       "  <thead>\n",
       "    <tr style=\"text-align: right;\">\n",
       "      <th></th>\n",
       "      <th>age</th>\n",
       "      <th>age_range</th>\n",
       "    </tr>\n",
       "  </thead>\n",
       "  <tbody>\n",
       "    <tr>\n",
       "      <th>0</th>\n",
       "      <td>24.0</td>\n",
       "      <td>23-29</td>\n",
       "    </tr>\n",
       "    <tr>\n",
       "      <th>1</th>\n",
       "      <td>24.0</td>\n",
       "      <td>23-29</td>\n",
       "    </tr>\n",
       "    <tr>\n",
       "      <th>2</th>\n",
       "      <td>32.0</td>\n",
       "      <td>30-34</td>\n",
       "    </tr>\n",
       "    <tr>\n",
       "      <th>3</th>\n",
       "      <td>32.0</td>\n",
       "      <td>30-34</td>\n",
       "    </tr>\n",
       "    <tr>\n",
       "      <th>4</th>\n",
       "      <td>32.0</td>\n",
       "      <td>30-34</td>\n",
       "    </tr>\n",
       "  </tbody>\n",
       "</table>\n",
       "</div>"
      ],
      "text/plain": [
       "    age age_range\n",
       "0  24.0     23-29\n",
       "1  24.0     23-29\n",
       "2  32.0     30-34\n",
       "3  32.0     30-34\n",
       "4  32.0     30-34"
      ]
     },
     "execution_count": 68,
     "metadata": {},
     "output_type": "execute_result"
    }
   ],
   "source": [
    "def age_range(age: float):\n",
    "    \"\"\"\n",
    "    Bin the age ranges for easier targeted segment analysis\n",
    "    \"\"\"\n",
    "    if age < 23:\n",
    "        return 'Under 22'\n",
    "    elif age < 30:\n",
    "        return '23-29'\n",
    "    elif age < 35:\n",
    "        return '30-34'\n",
    "    elif age < 40:\n",
    "        return '35-39'\n",
    "    elif age < 50:\n",
    "        return '40-49'\n",
    "    elif age < 55:\n",
    "        return '50-54'\n",
    "    elif age < 65:\n",
    "        return '54-64'\n",
    "    else:\n",
    "        return 'Over 65'\n",
    "    \n",
    "all_data['age_range'] = all_data['age'].apply(lambda x: age_range(x))\n",
    "all_data[['age', 'age_range']].head()"
   ]
  },
  {
   "cell_type": "markdown",
   "id": "2b48f8ea",
   "metadata": {},
   "source": []
  }
 ],
 "metadata": {
  "kernelspec": {
   "display_name": "Python 3",
   "language": "python",
   "name": "python3"
  },
  "language_info": {
   "codemirror_mode": {
    "name": "ipython",
    "version": 3
   },
   "file_extension": ".py",
   "mimetype": "text/x-python",
   "name": "python",
   "nbconvert_exporter": "python",
   "pygments_lexer": "ipython3",
   "version": "3.8.8"
  }
 },
 "nbformat": 4,
 "nbformat_minor": 5
}
